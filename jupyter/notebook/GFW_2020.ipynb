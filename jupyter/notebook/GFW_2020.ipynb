{
 "cells": [
  {
   "cell_type": "markdown",
   "metadata": {},
   "source": [
    "## Init Spark"
   ]
  },
  {
   "cell_type": "code",
   "execution_count": 1,
   "metadata": {},
   "outputs": [],
   "source": [
    "import findspark\n",
    "findspark.init()\n",
    "\n",
    "from pyspark.sql import SparkSession\n",
    "spark = (\n",
    "    SparkSession.builder\n",
    "    .appName(\"pyspark-titanic-exe\")\n",
    "    .config(\"spark.driver.memory\", \"512m\")\n",
    "    .config(\"spark.driver.cores\", \"1\")\n",
    "    .config(\"spark.executor.memory\", \"512m\")\n",
    "    .config(\"spark.executor.cores\", \"1\")\n",
    "    .config(\"spark.sql.shuffle.partitions\", \"2\")\n",
    "    .getOrCreate()\n",
    ")"
   ]
  },
  {
   "cell_type": "markdown",
   "metadata": {},
   "source": [
    "## ETL"
   ]
  },
  {
   "cell_type": "code",
   "execution_count": 2,
   "metadata": {},
   "outputs": [],
   "source": [
    "from pathlib import Path\n",
    "import pandas as pd"
   ]
  },
  {
   "cell_type": "code",
   "execution_count": 3,
   "metadata": {},
   "outputs": [],
   "source": [
    "def extract_trollers_data(url, refresh_cache=False):\n",
    "    cache_fn = Path('/dataset/trollers.csv')\n",
    "    if not cache_fn.exists() or refresh_cache:\n",
    "        print(\"Getting data\")\n",
    "        df = pd.read_csv(url)\n",
    "        df.to_csv(cache_fn, index=False)\n",
    "    print(\"Using cache\")\n",
    "    df = spark.read.csv(str(cache_fn), header=True)\n",
    "    return df"
   ]
  },
  {
   "cell_type": "code",
   "execution_count": 4,
   "metadata": {},
   "outputs": [],
   "source": [
    "url = 'https://raw.githubusercontent.com/nmarcovecchio/bigdata-workshop-es/master/dataset/GFW_2020/trollers.csv'"
   ]
  },
  {
   "cell_type": "code",
   "execution_count": 5,
   "metadata": {},
   "outputs": [
    {
     "name": "stdout",
     "output_type": "stream",
     "text": [
      "Using cache\n"
     ]
    }
   ],
   "source": [
    "df_raw = extract_trollers_data(url)"
   ]
  },
  {
   "cell_type": "code",
   "execution_count": 6,
   "metadata": {},
   "outputs": [],
   "source": [
    "from pyspark.sql.types import DoubleType, IntegerType\n",
    "\n",
    "def cast_cols(df, cols, new_type):\n",
    "    for col in cols: \n",
    "         df = df.withColumn(col, df[col].cast(new_type()))\n",
    "    return df\n",
    "\n",
    "integer_cols = ['timestamp']\n",
    "float_cols = ['distance_from_shore', 'distance_from_port', 'speed', 'course', 'lat', 'lon', 'is_fishing']\n",
    "\n",
    "df_raw = cast_cols(df_raw, integer_cols, IntegerType)\n",
    "df_raw = cast_cols(df_raw, float_cols, DoubleType)"
   ]
  },
  {
   "cell_type": "code",
   "execution_count": 7,
   "metadata": {},
   "outputs": [
    {
     "name": "stdout",
     "output_type": "stream",
     "text": [
      "root\n",
      " |-- mmsi: string (nullable = true)\n",
      " |-- timestamp: integer (nullable = true)\n",
      " |-- distance_from_shore: double (nullable = true)\n",
      " |-- distance_from_port: double (nullable = true)\n",
      " |-- speed: double (nullable = true)\n",
      " |-- course: double (nullable = true)\n",
      " |-- lat: double (nullable = true)\n",
      " |-- lon: double (nullable = true)\n",
      " |-- is_fishing: double (nullable = true)\n",
      " |-- source: string (nullable = true)\n",
      "\n"
     ]
    }
   ],
   "source": [
    "df_raw.printSchema()"
   ]
  },
  {
   "cell_type": "code",
   "execution_count": 8,
   "metadata": {},
   "outputs": [
    {
     "data": {
      "text/plain": [
       "166243"
      ]
     },
     "execution_count": 8,
     "metadata": {},
     "output_type": "execute_result"
    }
   ],
   "source": [
    "df_raw.count()"
   ]
  },
  {
   "cell_type": "code",
   "execution_count": 9,
   "metadata": {},
   "outputs": [
    {
     "name": "stdout",
     "output_type": "stream",
     "text": [
      "+----------+------+\n",
      "|is_fishing| count|\n",
      "+----------+------+\n",
      "|       1.0|  2966|\n",
      "| 0.6666667|   116|\n",
      "|0.33333334|    17|\n",
      "|      -1.0|158398|\n",
      "|       0.0|  4746|\n",
      "+----------+------+\n",
      "\n"
     ]
    }
   ],
   "source": [
    "df_raw.select('is_fishing').groupBy('is_fishing').count().show()"
   ]
  },
  {
   "cell_type": "code",
   "execution_count": 10,
   "metadata": {},
   "outputs": [
    {
     "name": "stdout",
     "output_type": "stream",
     "text": [
      "+-----------------+----------+-------------------+------------------+-----+--------------+-----------------+-------------------+----------+------+\n",
      "|             mmsi| timestamp|distance_from_shore|distance_from_port|speed|        course|              lat|                lon|is_fishing|source|\n",
      "+-----------------+----------+-------------------+------------------+-----+--------------+-----------------+-------------------+----------+------+\n",
      "|125954407820672.0|1472620010|                0.0|    999.9754638672|  0.0|317.3999938965|44.62714004520001|-124.05542755129999|      -1.0|   gfw|\n",
      "|125954407820672.0|1472620208|                0.0|    999.9754638672|  0.0| 314.299987793|    44.6271286011|-124.05542755129999|      -1.0|   gfw|\n",
      "+-----------------+----------+-------------------+------------------+-----+--------------+-----------------+-------------------+----------+------+\n",
      "\n"
     ]
    }
   ],
   "source": [
    "df_raw.createOrReplaceTempView(\"trollers\")\n",
    "s = spark.sql(\"\"\"\n",
    "SELECT * from trollers limit 2\n",
    "\"\"\")\n",
    "s.show()"
   ]
  },
  {
   "cell_type": "code",
   "execution_count": 11,
   "metadata": {},
   "outputs": [],
   "source": [
    "import seaborn as sns"
   ]
  },
  {
   "cell_type": "code",
   "execution_count": 12,
   "metadata": {},
   "outputs": [
    {
     "data": {
      "image/png": "[encoded data removed]",
      "text/plain": [
       "<Figure size 432x288 with 2 Axes>"
      ]
     },
     "metadata": {
      "needs_background": "light"
     },
     "output_type": "display_data"
    }
   ],
   "source": [
    "g = sns.heatmap(df_raw.select('speed', 'course', 'lat', 'lon', 'is_fishing').toPandas().corr(),\n",
    "                annot=True, fmt = \".2f\", cmap = \"coolwarm\")"
   ]
  },
  {
   "cell_type": "code",
   "execution_count": 13,
   "metadata": {},
   "outputs": [
    {
     "name": "stdout",
     "output_type": "stream",
     "text": [
      "+----+---------+-------------------+------------------+-----+------+---+---+----------+------+\n",
      "|mmsi|timestamp|distance_from_shore|distance_from_port|speed|course|lat|lon|is_fishing|source|\n",
      "+----+---------+-------------------+------------------+-----+------+---+---+----------+------+\n",
      "| 0.0|      0.0|                0.0|               0.0|  0.0|   0.0|0.0|0.0|       0.0|   0.0|\n",
      "+----+---------+-------------------+------------------+-----+------+---+---+----------+------+\n",
      "\n"
     ]
    }
   ],
   "source": [
    "import pyspark.sql.functions as f\n",
    "df_nulls = df_raw.select([f.sum(f.col(c).isNull().cast('integer') / df_raw.count()).alias(c) for c in df_raw.columns])\n",
    "df_nulls.show()"
   ]
  },
  {
   "cell_type": "code",
   "execution_count": 15,
   "metadata": {},
   "outputs": [
    {
     "name": "stdout",
     "output_type": "stream",
     "text": [
      "+-----------------+----------+-------------------+------------------+-------------------+--------------+-------------+-------------+----------+------+---------------------+\n",
      "|             mmsi| timestamp|distance_from_shore|distance_from_port|              speed|        course|          lat|          lon|is_fishing|source|occurrences_in_30_min|\n",
      "+-----------------+----------+-------------------+------------------+-------------------+--------------+-------------+-------------+----------+------+---------------------+\n",
      "|167072386810842.0|1325624789|                0.0|    17492.42578125|0.30000001190000003| 310.799987793|55.4751205444|14.2862281799|      -1.0|   gfw|                    1|\n",
      "|167072386810842.0|1325625532|                0.0|    17492.42578125|       0.1000000015|304.3999938965|55.4750671387|14.2862195969|      -1.0|   gfw|                    2|\n",
      "+-----------------+----------+-------------------+------------------+-------------------+--------------+-------------+-------------+----------+------+---------------------+\n",
      "only showing top 2 rows\n",
      "\n"
     ]
    }
   ],
   "source": [
    "#w = Window.partitionBy('location_point').orderBy('timestamp').rangeBetween(-60*60,0)\n",
    "#https://stackoverflow.com/questions/45531662/how-to-use-lag-and-rangebetween-functions-on-timestamp-values\n",
    "from pyspark.sql import Window \n",
    "w = Window.partitionBy('mmsi').orderBy('timestamp').rangeBetween(-60*30,0)\n",
    "df = df_raw.withColumn('occurrences_in_30_min',f.count('timestamp').over(w))\n",
    "df.show(2)"
   ]
  },
  {
   "cell_type": "code",
   "execution_count": 17,
   "metadata": {},
   "outputs": [
    {
     "name": "stdout",
     "output_type": "stream",
     "text": [
      "+-----------------+----------+-------------------+------------------+-------------------+--------------+------------------+------------------+----------+------+---------------------+--------------+--------------+\n",
      "|             mmsi| timestamp|distance_from_shore|distance_from_port|              speed|        course|               lat|               lon|is_fishing|source|occurrences_in_30_min|prev_timestamp|diff_timestamp|\n",
      "+-----------------+----------+-------------------+------------------+-------------------+--------------+------------------+------------------+----------+------+---------------------+--------------+--------------+\n",
      "|167072386810842.0|1325624789|                0.0|    17492.42578125|0.30000001190000003| 310.799987793|     55.4751205444|     14.2862281799|      -1.0|   gfw|                    1|          null|          null|\n",
      "|167072386810842.0|1325625532|                0.0|    17492.42578125|       0.1000000015|304.3999938965|     55.4750671387|     14.2862195969|      -1.0|   gfw|                    2|    1325624789|           743|\n",
      "|167072386810842.0|1325626528|                0.0|    17492.42578125|                0.0|284.1000061035|     55.4750671387|14.286190032999999|      -1.0|   gfw|                    3|    1325625532|           996|\n",
      "|167072386810842.0|1325627520|                0.0|    17492.42578125|       0.1000000015|311.1000061035|      55.475063324|14.286190032999999|      -1.0|   gfw|                    2|    1325626528|           992|\n",
      "|167072386810842.0|1325628228|                0.0|    17492.42578125|                0.0|           6.5|55.475078582799995|     14.2861785889|      -1.0|   gfw|                    3|    1325627520|           708|\n",
      "|167072386810842.0|1325629234|                0.0|    17492.42578125|        0.400000006| 290.799987793|     55.4751052856|     14.2862014771|      -1.0|   gfw|                    3|    1325628228|          1006|\n",
      "|167072386810842.0|1325629826|                0.0|    17492.42578125|                0.0|293.6000061035|55.475048065200006|14.286198615999998|      -1.0|   gfw|                    3|    1325629234|           592|\n",
      "|167072386810842.0|1325630670|                0.0|    17492.42578125|        0.200000003|         256.5|55.475048065200006|     14.2862052917|      -1.0|   gfw|                    3|    1325629826|           844|\n",
      "|167072386810842.0|1325631378|                0.0|    17492.42578125|        0.200000003|242.8000030518|55.475086212200004|14.286206245399999|      -1.0|   gfw|                    3|    1325630670|           708|\n",
      "|167072386810842.0|1325631990|                0.0|    17492.42578125|                0.0|239.6999969482|55.475078582799995|     14.2861995697|      -1.0|   gfw|                    3|    1325631378|           612|\n",
      "|167072386810842.0|1325633088|                0.0|    17492.42578125|       0.1000000015|  2.0999999046|      55.475063324|14.286190032999999|      -1.0|   gfw|                    3|    1325631990|          1098|\n",
      "|167072386810842.0|1325633786|                0.0|    17492.42578125|                0.0| 358.200012207|     55.4750595093|     14.2861785889|      -1.0|   gfw|                    3|    1325633088|           698|\n",
      "|167072386810842.0|1325634651|                0.0|    17492.42578125|       0.1000000015|          26.5|55.475078582799995|     14.2861833572|      -1.0|   gfw|                    3|    1325633786|           865|\n",
      "|167072386810842.0|1325635470|                0.0|    17492.42578125|        0.200000003|356.6000061035|     55.4751396179|     14.2861604691|      -1.0|   gfw|                    3|    1325634651|           819|\n",
      "|167072386810842.0|1325636324|                0.0|    17492.42578125|                0.0|298.8999938965|     55.4750938416|     14.2862119675|      -1.0|   gfw|                    3|    1325635470|           854|\n",
      "|167072386810842.0|1325637047|                0.0|    17492.42578125|       0.1000000015|         174.5|55.475086212200004|14.286206245399999|      -1.0|   gfw|                    3|    1325636324|           723|\n",
      "|167072386810842.0|1325638169|                0.0|    17492.42578125|0.30000001190000003|          55.5|     55.4751052856|     14.2861833572|      -1.0|   gfw|                    2|    1325637047|          1122|\n",
      "|167072386810842.0|1325639944|                0.0|    17492.42578125|        0.200000003|239.8000030518| 55.47511672970001|14.286232948299999|      -1.0|   gfw|                    2|    1325638169|          1775|\n",
      "|167072386810842.0|1325640647|                0.0|    17492.42578125|        0.200000003|236.1999969482|55.475109100299996|     14.2862300873|      -1.0|   gfw|                    2|    1325639944|           703|\n",
      "|167072386810842.0|1325641618|                0.0|    17492.42578125|        0.200000003|218.3999938965|     55.4751014709|14.286232948299999|      -1.0|   gfw|                    3|    1325640647|           971|\n",
      "+-----------------+----------+-------------------+------------------+-------------------+--------------+------------------+------------------+----------+------+---------------------+--------------+--------------+\n",
      "only showing top 20 rows\n",
      "\n"
     ]
    }
   ],
   "source": [
    "from pyspark.sql.functions import lag\n",
    "w = Window.partitionBy('mmsi').orderBy('timestamp')\n",
    "df = df.withColumn('prev_timestamp', lag('timestamp', 1).over(w))\n",
    "df = df.withColumn('diff_timestamp', (df['timestamp'] -df['prev_timestamp']) )\n",
    "df.show(2)"
   ]
  },
  {
   "cell_type": "code",
   "execution_count": 21,
   "metadata": {},
   "outputs": [],
   "source": [
    "df.toPandas().to_csv('trolleres_featuered.csv')\n"
   ]
  },
  {
   "cell_type": "code",
   "execution_count": 22,
   "metadata": {},
   "outputs": [],
   "source": [
    "# Plotting\n",
    "import matplotlib.pyplot as plt\n",
    "%matplotlib inline"
   ]
  },
  {
   "cell_type": "code",
   "execution_count": 23,
   "metadata": {},
   "outputs": [
    {
     "data": {
      "text/plain": [
       "<matplotlib.axes._subplots.AxesSubplot at 0x7f6ee7996cc0>"
      ]
     },
     "execution_count": 23,
     "metadata": {},
     "output_type": "execute_result"
    },
    {
     "data": {
      "image/png": "[encoded data removed]",
      "text/plain": [
       "<Figure size 432x288 with 1 Axes>"
      ]
     },
     "metadata": {
      "needs_background": "light"
     },
     "output_type": "display_data"
    }
   ],
   "source": [
    "df.select('is_fishing').groupBy('is_fishing').count().toPandas().set_index('is_fishing').plot.bar()"
   ]
  },
  {
   "cell_type": "code",
   "execution_count": 24,
   "metadata": {},
   "outputs": [
    {
     "data": {
      "image/png": "[encoded data removed]",
      "text/plain": [
       "<Figure size 1080x216 with 5 Axes>"
      ]
     },
     "metadata": {
      "needs_background": "light"
     },
     "output_type": "display_data"
    }
   ],
   "source": [
    "g = sns.FacetGrid(df.toPandas(), col='is_fishing')\n",
    "g = g.map(sns.distplot, 'speed')"
   ]
  },
  {
   "cell_type": "code",
   "execution_count": null,
   "metadata": {},
   "outputs": [],
   "source": []
  }
 ],
 "metadata": {
  "kernelspec": {
   "display_name": "Python 3",
   "language": "python",
   "name": "python3"
  },
  "language_info": {
   "codemirror_mode": {
    "name": "ipython",
    "version": 3
   },
   "file_extension": ".py",
   "mimetype": "text/x-python",
   "name": "python",
   "nbconvert_exporter": "python",
   "pygments_lexer": "ipython3",
   "version": "3.7.3"
  }
 },
 "nbformat": 4,
 "nbformat_minor": 4
}
